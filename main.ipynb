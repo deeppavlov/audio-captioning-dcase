{
  "cells": [
    {
      "cell_type": "code",
      "execution_count": 3,
      "id": "35e82fe1",
      "metadata": {},
      "outputs": [
        {
          "name": "stdout",
          "output_type": "stream",
          "text": [
            "Defaulting to user installation because normal site-packages is not writeable\n",
            "Requirement already satisfied: pip in /home/ilia/.local/lib/python3.8/site-packages (23.0)\n",
            "Collecting pip\n",
            "  Downloading pip-23.0.1-py3-none-any.whl (2.1 MB)\n",
            "\u001b[2K     \u001b[90m━━━━━━━━━━━━━━━━━━━━━━━━━━━━━━━━━━━━━━━━\u001b[0m \u001b[32m2.1/2.1 MB\u001b[0m \u001b[31m5.3 MB/s\u001b[0m eta \u001b[36m0:00:00\u001b[0m00:01\u001b[0m00:01\u001b[0m\n",
            "\u001b[?25hInstalling collected packages: pip\n",
            "  Attempting uninstall: pip\n",
            "    Found existing installation: pip 23.0\n",
            "    Uninstalling pip-23.0:\n",
            "      Successfully uninstalled pip-23.0\n",
            "Successfully installed pip-23.0.1\n",
            "Defaulting to user installation because normal site-packages is not writeable\n",
            "Requirement already satisfied: llvmlite==0.31.0 in /home/ilia/.local/lib/python3.8/site-packages (0.31.0)\n"
          ]
        }
      ],
      "source": [
        "!pip install -U pip\n",
        "!pip install llvmlite==0.31.0"
      ]
    },
    {
      "cell_type": "code",
      "execution_count": 4,
      "id": "ed54a5ad-d36f-46ef-b77d-08db76b5c67d",
      "metadata": {
        "colab": {
          "base_uri": "https://localhost:8080/"
        },
        "id": "ed54a5ad-d36f-46ef-b77d-08db76b5c67d",
        "outputId": "9b90ad27-fcb6-476f-834a-b0c501e68211"
      },
      "outputs": [
        {
          "name": "stdout",
          "output_type": "stream",
          "text": [
            "Defaulting to user installation because normal site-packages is not writeable\n",
            "Requirement already satisfied: numba==0.48 in /home/ilia/.local/lib/python3.8/site-packages (0.48.0)\n",
            "Requirement already satisfied: llvmlite<0.32.0,>=0.31.0dev0 in /home/ilia/.local/lib/python3.8/site-packages (from numba==0.48) (0.31.0)\n",
            "Requirement already satisfied: numpy>=1.15 in /home/ilia/.local/lib/python3.8/site-packages (from numba==0.48) (1.19.5)\n",
            "Requirement already satisfied: setuptools in /usr/lib/python3/dist-packages (from numba==0.48) (45.2.0)\n"
          ]
        }
      ],
      "source": [
        "!pip install numba==0.48"
      ]
    },
    {
      "cell_type": "code",
      "execution_count": 5,
      "id": "05a3d99e",
      "metadata": {},
      "outputs": [
        {
          "name": "stdout",
          "output_type": "stream",
          "text": [
            "Name: numba\n",
            "Version: 0.48.0\n",
            "Summary: compiling Python code using LLVM\n",
            "Home-page: http://numba.github.com\n",
            "Author: Anaconda, Inc.\n",
            "Author-email: numba-users@continuum.io\n",
            "License: BSD\n",
            "Location: /home/ilia/.local/lib/python3.8/site-packages\n",
            "Requires: llvmlite, numpy, setuptools\n",
            "Required-by: efficient-latent, librosa, resampy\n",
            "Name: llvmlite\n",
            "Version: 0.31.0\n",
            "Summary: lightweight wrapper around basic LLVM functionality\n",
            "Home-page: http://llvmlite.pydata.org\n",
            "Author: Continuum Analytics, Inc.\n",
            "Author-email: numba-users@continuum.io\n",
            "License: BSD\n",
            "Location: /home/ilia/.local/lib/python3.8/site-packages\n",
            "Requires: \n",
            "Required-by: numba\n"
          ]
        }
      ],
      "source": [
        "!pip show numba\n",
        "!pip show llvmlite"
      ]
    },
    {
      "cell_type": "code",
      "execution_count": 6,
      "id": "713be77a-b27a-4940-ae31-b79881c36fae",
      "metadata": {
        "colab": {
          "base_uri": "https://localhost:8080/"
        },
        "id": "713be77a-b27a-4940-ae31-b79881c36fae",
        "outputId": "6fbd2d07-5bf1-4219-c4eb-2edc3d1f3b2d"
      },
      "outputs": [
        {
          "name": "stdout",
          "output_type": "stream",
          "text": [
            "/home/ilia/projects/audio-captioning\n",
            "Cloning into 'AudioCaption'...\n",
            "remote: Enumerating objects: 794, done.\u001b[K\n",
            "remote: Counting objects: 100% (794/794), done.\u001b[K\n",
            "remote: Compressing objects: 100% (425/425), done.\u001b[K\n",
            "remote: Total 794 (delta 434), reused 702 (delta 342), pack-reused 0\u001b[K\n",
            "Receiving objects: 100% (794/794), 10.07 MiB | 9.03 MiB/s, done.\n",
            "Resolving deltas: 100% (434/434), done.\n",
            "/home/ilia/projects/audio-captioning/AudioCaption\n",
            "Requirement already satisfied: pandas==1.1.3 in /home/ilia/miniconda3/lib/python3.9/site-packages (from -r requirements.txt (line 1)) (1.1.3)\n",
            "Requirement already satisfied: numpy==1.19.5 in /home/ilia/miniconda3/lib/python3.9/site-packages (from -r requirements.txt (line 2)) (1.19.5)\n",
            "Requirement already satisfied: librosa==0.7.0 in /home/ilia/miniconda3/lib/python3.9/site-packages (from -r requirements.txt (line 3)) (0.7.0)\n",
            "Requirement already satisfied: torch==1.8.1 in /home/ilia/miniconda3/lib/python3.9/site-packages (from -r requirements.txt (line 4)) (1.8.1)\n",
            "Requirement already satisfied: pytorch-ignite==0.4.1 in /home/ilia/miniconda3/lib/python3.9/site-packages (from -r requirements.txt (line 5)) (0.4.1)\n",
            "Requirement already satisfied: tqdm==4.36.1 in /home/ilia/miniconda3/lib/python3.9/site-packages (from -r requirements.txt (line 6)) (4.36.1)\n",
            "Requirement already satisfied: nltk==3.5 in /home/ilia/miniconda3/lib/python3.9/site-packages (from -r requirements.txt (line 7)) (3.5)\n",
            "Requirement already satisfied: fire==0.2.1 in /home/ilia/miniconda3/lib/python3.9/site-packages (from -r requirements.txt (line 8)) (0.2.1)\n",
            "Requirement already satisfied: zhon==1.1.5 in /home/ilia/miniconda3/lib/python3.9/site-packages (from -r requirements.txt (line 9)) (1.1.5)\n",
            "Requirement already satisfied: PyYAML==5.1.2 in /home/ilia/miniconda3/lib/python3.9/site-packages (from -r requirements.txt (line 10)) (5.1.2)\n",
            "Requirement already satisfied: gensim==3.8.3 in /home/ilia/miniconda3/lib/python3.9/site-packages (from -r requirements.txt (line 11)) (3.8.3)\n",
            "Requirement already satisfied: h5py==3.1.0 in /home/ilia/miniconda3/lib/python3.9/site-packages (from -r requirements.txt (line 12)) (3.1.0)\n",
            "Requirement already satisfied: pypeln==0.4.7 in /home/ilia/miniconda3/lib/python3.9/site-packages (from -r requirements.txt (line 13)) (0.4.7)\n",
            "Requirement already satisfied: kaldiio==2.16.0a1 in /home/ilia/miniconda3/lib/python3.9/site-packages (from -r requirements.txt (line 14)) (2.16.0a1)\n",
            "Requirement already satisfied: pycocoevalcap==1.2 in /home/ilia/miniconda3/lib/python3.9/site-packages (from -r requirements.txt (line 15)) (1.2)\n",
            "Requirement already satisfied: pytz>=2017.2 in /home/ilia/miniconda3/lib/python3.9/site-packages (from pandas==1.1.3->-r requirements.txt (line 1)) (2022.7.1)\n",
            "Requirement already satisfied: python-dateutil>=2.7.3 in /home/ilia/miniconda3/lib/python3.9/site-packages (from pandas==1.1.3->-r requirements.txt (line 1)) (2.8.2)\n",
            "Requirement already satisfied: joblib>=0.12 in /home/ilia/miniconda3/lib/python3.9/site-packages (from librosa==0.7.0->-r requirements.txt (line 3)) (1.2.0)\n",
            "Requirement already satisfied: six>=1.3 in /home/ilia/miniconda3/lib/python3.9/site-packages (from librosa==0.7.0->-r requirements.txt (line 3)) (1.16.0)\n",
            "Requirement already satisfied: resampy>=0.2.0 in /home/ilia/miniconda3/lib/python3.9/site-packages (from librosa==0.7.0->-r requirements.txt (line 3)) (0.4.2)\n",
            "Requirement already satisfied: scipy>=1.0.0 in /home/ilia/miniconda3/lib/python3.9/site-packages (from librosa==0.7.0->-r requirements.txt (line 3)) (1.10.1)\n",
            "Requirement already satisfied: scikit-learn!=0.19.0,>=0.14.0 in /home/ilia/miniconda3/lib/python3.9/site-packages (from librosa==0.7.0->-r requirements.txt (line 3)) (1.2.2)\n",
            "Requirement already satisfied: numba>=0.38.0 in /home/ilia/miniconda3/lib/python3.9/site-packages (from librosa==0.7.0->-r requirements.txt (line 3)) (0.56.4)\n",
            "Requirement already satisfied: soundfile>=0.9.0 in /home/ilia/miniconda3/lib/python3.9/site-packages (from librosa==0.7.0->-r requirements.txt (line 3)) (0.12.1)\n",
            "Requirement already satisfied: decorator>=3.0.0 in /home/ilia/miniconda3/lib/python3.9/site-packages (from librosa==0.7.0->-r requirements.txt (line 3)) (5.1.1)\n",
            "Requirement already satisfied: audioread>=2.0.0 in /home/ilia/miniconda3/lib/python3.9/site-packages (from librosa==0.7.0->-r requirements.txt (line 3)) (3.0.0)\n",
            "Requirement already satisfied: typing-extensions in /home/ilia/miniconda3/lib/python3.9/site-packages (from torch==1.8.1->-r requirements.txt (line 4)) (4.5.0)\n",
            "Requirement already satisfied: regex in /home/ilia/miniconda3/lib/python3.9/site-packages (from nltk==3.5->-r requirements.txt (line 7)) (2022.10.31)\n",
            "Requirement already satisfied: click in /home/ilia/miniconda3/lib/python3.9/site-packages (from nltk==3.5->-r requirements.txt (line 7)) (8.1.3)\n",
            "Requirement already satisfied: termcolor in /home/ilia/miniconda3/lib/python3.9/site-packages (from fire==0.2.1->-r requirements.txt (line 8)) (2.2.0)\n",
            "Requirement already satisfied: smart-open>=1.8.1 in /home/ilia/miniconda3/lib/python3.9/site-packages (from gensim==3.8.3->-r requirements.txt (line 11)) (6.3.0)\n",
            "Requirement already satisfied: stopit<2.0.0,>=1.1.2 in /home/ilia/miniconda3/lib/python3.9/site-packages (from pypeln==0.4.7->-r requirements.txt (line 13)) (1.1.2)\n",
            "Requirement already satisfied: pytest-cov<3.0.0,>=2.10.1 in /home/ilia/miniconda3/lib/python3.9/site-packages (from pypeln==0.4.7->-r requirements.txt (line 13)) (2.12.1)\n",
            "Requirement already satisfied: pycocotools>=2.0.2 in /home/ilia/miniconda3/lib/python3.9/site-packages (from pycocoevalcap==1.2->-r requirements.txt (line 15)) (2.0.6)\n",
            "Requirement already satisfied: setuptools in /home/ilia/miniconda3/lib/python3.9/site-packages (from numba>=0.38.0->librosa==0.7.0->-r requirements.txt (line 3)) (65.6.3)\n",
            "Requirement already satisfied: llvmlite<0.40,>=0.39.0dev0 in /home/ilia/miniconda3/lib/python3.9/site-packages (from numba>=0.38.0->librosa==0.7.0->-r requirements.txt (line 3)) (0.39.1)\n",
            "Requirement already satisfied: matplotlib>=2.1.0 in /home/ilia/miniconda3/lib/python3.9/site-packages (from pycocotools>=2.0.2->pycocoevalcap==1.2->-r requirements.txt (line 15)) (3.6.3)\n",
            "Requirement already satisfied: pytest>=4.6 in /home/ilia/miniconda3/lib/python3.9/site-packages (from pytest-cov<3.0.0,>=2.10.1->pypeln==0.4.7->-r requirements.txt (line 13)) (7.2.2)\n",
            "Requirement already satisfied: toml in /home/ilia/miniconda3/lib/python3.9/site-packages (from pytest-cov<3.0.0,>=2.10.1->pypeln==0.4.7->-r requirements.txt (line 13)) (0.10.2)\n",
            "Requirement already satisfied: coverage>=5.2.1 in /home/ilia/miniconda3/lib/python3.9/site-packages (from pytest-cov<3.0.0,>=2.10.1->pypeln==0.4.7->-r requirements.txt (line 13)) (7.2.2)\n",
            "Requirement already satisfied: threadpoolctl>=2.0.0 in /home/ilia/miniconda3/lib/python3.9/site-packages (from scikit-learn!=0.19.0,>=0.14.0->librosa==0.7.0->-r requirements.txt (line 3)) (3.1.0)\n",
            "Requirement already satisfied: cffi>=1.0 in /home/ilia/miniconda3/lib/python3.9/site-packages (from soundfile>=0.9.0->librosa==0.7.0->-r requirements.txt (line 3)) (1.15.1)\n",
            "Requirement already satisfied: pycparser in /home/ilia/miniconda3/lib/python3.9/site-packages (from cffi>=1.0->soundfile>=0.9.0->librosa==0.7.0->-r requirements.txt (line 3)) (2.21)\n",
            "Requirement already satisfied: pillow>=6.2.0 in /home/ilia/miniconda3/lib/python3.9/site-packages (from matplotlib>=2.1.0->pycocotools>=2.0.2->pycocoevalcap==1.2->-r requirements.txt (line 15)) (9.4.0)\n",
            "Requirement already satisfied: cycler>=0.10 in /home/ilia/miniconda3/lib/python3.9/site-packages (from matplotlib>=2.1.0->pycocotools>=2.0.2->pycocoevalcap==1.2->-r requirements.txt (line 15)) (0.11.0)\n",
            "Requirement already satisfied: packaging>=20.0 in /home/ilia/miniconda3/lib/python3.9/site-packages (from matplotlib>=2.1.0->pycocotools>=2.0.2->pycocoevalcap==1.2->-r requirements.txt (line 15)) (23.0)\n",
            "Requirement already satisfied: fonttools>=4.22.0 in /home/ilia/miniconda3/lib/python3.9/site-packages (from matplotlib>=2.1.0->pycocotools>=2.0.2->pycocoevalcap==1.2->-r requirements.txt (line 15)) (4.39.2)\n",
            "Requirement already satisfied: contourpy>=1.0.1 in /home/ilia/miniconda3/lib/python3.9/site-packages (from matplotlib>=2.1.0->pycocotools>=2.0.2->pycocoevalcap==1.2->-r requirements.txt (line 15)) (1.0.7)\n",
            "Requirement already satisfied: pyparsing>=2.2.1 in /home/ilia/miniconda3/lib/python3.9/site-packages (from matplotlib>=2.1.0->pycocotools>=2.0.2->pycocoevalcap==1.2->-r requirements.txt (line 15)) (3.0.9)\n",
            "Requirement already satisfied: kiwisolver>=1.0.1 in /home/ilia/miniconda3/lib/python3.9/site-packages (from matplotlib>=2.1.0->pycocotools>=2.0.2->pycocoevalcap==1.2->-r requirements.txt (line 15)) (1.4.4)\n",
            "Requirement already satisfied: pluggy<2.0,>=0.12 in /home/ilia/miniconda3/lib/python3.9/site-packages (from pytest>=4.6->pytest-cov<3.0.0,>=2.10.1->pypeln==0.4.7->-r requirements.txt (line 13)) (1.0.0)\n",
            "Requirement already satisfied: tomli>=1.0.0 in /home/ilia/miniconda3/lib/python3.9/site-packages (from pytest>=4.6->pytest-cov<3.0.0,>=2.10.1->pypeln==0.4.7->-r requirements.txt (line 13)) (2.0.1)\n",
            "Requirement already satisfied: attrs>=19.2.0 in /home/ilia/miniconda3/lib/python3.9/site-packages (from pytest>=4.6->pytest-cov<3.0.0,>=2.10.1->pypeln==0.4.7->-r requirements.txt (line 13)) (22.2.0)\n",
            "Requirement already satisfied: exceptiongroup>=1.0.0rc8 in /home/ilia/miniconda3/lib/python3.9/site-packages (from pytest>=4.6->pytest-cov<3.0.0,>=2.10.1->pypeln==0.4.7->-r requirements.txt (line 13)) (1.1.1)\n",
            "Requirement already satisfied: iniconfig in /home/ilia/miniconda3/lib/python3.9/site-packages (from pytest>=4.6->pytest-cov<3.0.0,>=2.10.1->pypeln==0.4.7->-r requirements.txt (line 13)) (2.0.0)\n"
          ]
        }
      ],
      "source": [
        "%cd ~/projects/audio-captioning\n",
        "!rm -rf AudioCaption\n",
        "!git clone https://github.com/wsntxxn/AudioCaption\n",
        "%cd AudioCaption\n",
        "!python3 -m pip install -r requirements.txt"
      ]
    },
    {
      "cell_type": "code",
      "execution_count": 7,
      "id": "78d42b5e-2674-4554-8b2a-3d5b73195da1",
      "metadata": {
        "colab": {
          "base_uri": "https://localhost:8080/"
        },
        "id": "78d42b5e-2674-4554-8b2a-3d5b73195da1",
        "outputId": "323074d8-8ef3-4cd7-df7f-b99fb5ace87d"
      },
      "outputs": [
        {
          "name": "stdout",
          "output_type": "stream",
          "text": [
            "Defaulting to user installation because normal site-packages is not writeable\n",
            "Obtaining file:///home/ilia/projects/audio-captioning/AudioCaption\n",
            "  Preparing metadata (setup.py) ... \u001b[?25ldone\n",
            "\u001b[?25hCollecting efficient_latent@ git+https://github.com/richermans/HEAR2021_EfficientLatent.git\n",
            "  Cloning https://github.com/richermans/HEAR2021_EfficientLatent.git to /tmp/pip-install-znjmuk0q/efficient-latent_cc95ba79f87f496da2cb29e967d76a62\n",
            "  Running command git clone --filter=blob:none --quiet https://github.com/richermans/HEAR2021_EfficientLatent.git /tmp/pip-install-znjmuk0q/efficient-latent_cc95ba79f87f496da2cb29e967d76a62\n",
            "  Resolved https://github.com/richermans/HEAR2021_EfficientLatent.git to commit 49d5a5c1992ce3ebd5efebfcb792dd9f9976170d\n",
            "  Preparing metadata (setup.py) ... \u001b[?25ldone\n",
            "\u001b[?25hRequirement already satisfied: efficientnet_pytorch==0.7.1 in /home/ilia/.local/lib/python3.8/site-packages (from efficient_latent@ git+https://github.com/richermans/HEAR2021_EfficientLatent.git->audiocaptioning==0.0.1) (0.7.1)\n",
            "Requirement already satisfied: einops in /home/ilia/.local/lib/python3.8/site-packages (from efficient_latent@ git+https://github.com/richermans/HEAR2021_EfficientLatent.git->audiocaptioning==0.0.1) (0.6.0)\n",
            "Requirement already satisfied: librosa in /home/ilia/.local/lib/python3.8/site-packages (from efficient_latent@ git+https://github.com/richermans/HEAR2021_EfficientLatent.git->audiocaptioning==0.0.1) (0.9.2)\n",
            "Requirement already satisfied: numba==0.48 in /home/ilia/.local/lib/python3.8/site-packages (from efficient_latent@ git+https://github.com/richermans/HEAR2021_EfficientLatent.git->audiocaptioning==0.0.1) (0.48.0)\n",
            "Requirement already satisfied: numpy==1.19.5 in /home/ilia/.local/lib/python3.8/site-packages (from efficient_latent@ git+https://github.com/richermans/HEAR2021_EfficientLatent.git->audiocaptioning==0.0.1) (1.19.5)\n",
            "Requirement already satisfied: torch in /home/ilia/.local/lib/python3.8/site-packages (from efficient_latent@ git+https://github.com/richermans/HEAR2021_EfficientLatent.git->audiocaptioning==0.0.1) (1.13.1+cu116)\n",
            "Requirement already satisfied: torchaudio in /home/ilia/.local/lib/python3.8/site-packages (from efficient_latent@ git+https://github.com/richermans/HEAR2021_EfficientLatent.git->audiocaptioning==0.0.1) (0.13.1+cu116)\n",
            "Requirement already satisfied: llvmlite<0.32.0,>=0.31.0dev0 in /home/ilia/.local/lib/python3.8/site-packages (from numba==0.48->efficient_latent@ git+https://github.com/richermans/HEAR2021_EfficientLatent.git->audiocaptioning==0.0.1) (0.31.0)\n",
            "Requirement already satisfied: setuptools in /usr/lib/python3/dist-packages (from numba==0.48->efficient_latent@ git+https://github.com/richermans/HEAR2021_EfficientLatent.git->audiocaptioning==0.0.1) (45.2.0)\n",
            "Requirement already satisfied: scipy>=1.2.0 in /home/ilia/.local/lib/python3.8/site-packages (from librosa->efficient_latent@ git+https://github.com/richermans/HEAR2021_EfficientLatent.git->audiocaptioning==0.0.1) (1.10.0)\n",
            "Requirement already satisfied: joblib>=0.14 in /home/ilia/.local/lib/python3.8/site-packages (from librosa->efficient_latent@ git+https://github.com/richermans/HEAR2021_EfficientLatent.git->audiocaptioning==0.0.1) (1.2.0)\n",
            "Requirement already satisfied: scikit-learn>=0.19.1 in /home/ilia/.local/lib/python3.8/site-packages (from librosa->efficient_latent@ git+https://github.com/richermans/HEAR2021_EfficientLatent.git->audiocaptioning==0.0.1) (1.2.2)\n",
            "Requirement already satisfied: decorator>=4.0.10 in /home/ilia/.local/lib/python3.8/site-packages (from librosa->efficient_latent@ git+https://github.com/richermans/HEAR2021_EfficientLatent.git->audiocaptioning==0.0.1) (5.1.1)\n",
            "Requirement already satisfied: resampy>=0.2.2 in /home/ilia/.local/lib/python3.8/site-packages (from librosa->efficient_latent@ git+https://github.com/richermans/HEAR2021_EfficientLatent.git->audiocaptioning==0.0.1) (0.3.1)\n",
            "Requirement already satisfied: packaging>=20.0 in /home/ilia/.local/lib/python3.8/site-packages (from librosa->efficient_latent@ git+https://github.com/richermans/HEAR2021_EfficientLatent.git->audiocaptioning==0.0.1) (23.0)\n",
            "Requirement already satisfied: pooch>=1.0 in /home/ilia/.local/lib/python3.8/site-packages (from librosa->efficient_latent@ git+https://github.com/richermans/HEAR2021_EfficientLatent.git->audiocaptioning==0.0.1) (1.7.0)\n",
            "Requirement already satisfied: soundfile>=0.10.2 in /home/ilia/.local/lib/python3.8/site-packages (from librosa->efficient_latent@ git+https://github.com/richermans/HEAR2021_EfficientLatent.git->audiocaptioning==0.0.1) (0.12.1)\n",
            "Requirement already satisfied: audioread>=2.1.9 in /home/ilia/.local/lib/python3.8/site-packages (from librosa->efficient_latent@ git+https://github.com/richermans/HEAR2021_EfficientLatent.git->audiocaptioning==0.0.1) (3.0.0)\n",
            "Requirement already satisfied: typing-extensions in /home/ilia/.local/lib/python3.8/site-packages (from torch->efficient_latent@ git+https://github.com/richermans/HEAR2021_EfficientLatent.git->audiocaptioning==0.0.1) (4.4.0)\n",
            "Requirement already satisfied: requests>=2.19.0 in /home/ilia/.local/lib/python3.8/site-packages (from pooch>=1.0->librosa->efficient_latent@ git+https://github.com/richermans/HEAR2021_EfficientLatent.git->audiocaptioning==0.0.1) (2.28.2)\n",
            "Requirement already satisfied: platformdirs>=2.5.0 in /home/ilia/.local/lib/python3.8/site-packages (from pooch>=1.0->librosa->efficient_latent@ git+https://github.com/richermans/HEAR2021_EfficientLatent.git->audiocaptioning==0.0.1) (3.1.1)\n",
            "Requirement already satisfied: threadpoolctl>=2.0.0 in /home/ilia/.local/lib/python3.8/site-packages (from scikit-learn>=0.19.1->librosa->efficient_latent@ git+https://github.com/richermans/HEAR2021_EfficientLatent.git->audiocaptioning==0.0.1) (3.1.0)\n",
            "Requirement already satisfied: cffi>=1.0 in /home/ilia/.local/lib/python3.8/site-packages (from soundfile>=0.10.2->librosa->efficient_latent@ git+https://github.com/richermans/HEAR2021_EfficientLatent.git->audiocaptioning==0.0.1) (1.15.1)\n",
            "Requirement already satisfied: pycparser in /home/ilia/.local/lib/python3.8/site-packages (from cffi>=1.0->soundfile>=0.10.2->librosa->efficient_latent@ git+https://github.com/richermans/HEAR2021_EfficientLatent.git->audiocaptioning==0.0.1) (2.21)\n",
            "Requirement already satisfied: charset-normalizer<4,>=2 in /home/ilia/.local/lib/python3.8/site-packages (from requests>=2.19.0->pooch>=1.0->librosa->efficient_latent@ git+https://github.com/richermans/HEAR2021_EfficientLatent.git->audiocaptioning==0.0.1) (3.0.1)\n",
            "Requirement already satisfied: idna<4,>=2.5 in /usr/lib/python3/dist-packages (from requests>=2.19.0->pooch>=1.0->librosa->efficient_latent@ git+https://github.com/richermans/HEAR2021_EfficientLatent.git->audiocaptioning==0.0.1) (2.8)\n",
            "Requirement already satisfied: urllib3<1.27,>=1.21.1 in /home/ilia/.local/lib/python3.8/site-packages (from requests>=2.19.0->pooch>=1.0->librosa->efficient_latent@ git+https://github.com/richermans/HEAR2021_EfficientLatent.git->audiocaptioning==0.0.1) (1.26.14)\n",
            "Requirement already satisfied: certifi>=2017.4.17 in /usr/lib/python3/dist-packages (from requests>=2.19.0->pooch>=1.0->librosa->efficient_latent@ git+https://github.com/richermans/HEAR2021_EfficientLatent.git->audiocaptioning==0.0.1) (2019.11.28)\n",
            "Installing collected packages: audiocaptioning\n",
            "  Running setup.py develop for audiocaptioning\n",
            "Successfully installed audiocaptioning\n"
          ]
        }
      ],
      "source": [
        "!pip install -e ."
      ]
    },
    {
      "cell_type": "code",
      "execution_count": 23,
      "id": "a128941f-f783-42cb-9a00-b3ddf0ef6889",
      "metadata": {
        "colab": {
          "base_uri": "https://localhost:8080/"
        },
        "id": "a128941f-f783-42cb-9a00-b3ddf0ef6889",
        "outputId": "df111769-14a5-478d-9172-24ad8dd18afc"
      },
      "outputs": [
        {
          "name": "stdout",
          "output_type": "stream",
          "text": [
            "/home/ilia/projects/audio-captioning/AudioCaption\n",
            "['bip.wav', 'dog.wav', 'bell.wav', 'gong.wav', 'atm01.wav', 'beebee.wav', 'drawer.wav', 'STE-008.wav', 'balloon.wav', 'buzzing.wav', 'cough_1.wav', 'cough_2.wav', 'flute_1.wav', 'barbecue.wav', 'brushing.wav', 'fans_hbf.wav', 'Gouttiere.wav', 'crackling.wav', 'air duster.wav', 'babyrattle.wav', 'cat eating.wav', 'chainsaw-1.wav', 'chainsaw-2.wav', 'clickclick.wav', 'dishwasher.wav', 'CDmaschine1.wav', 'Plastic bag.wav', 'cooker_hood.wav', 'drilling_01.wav', 'gobbler_bod.wav', 'Forest Track.wav', 'Toilet_Flush.wav', 'carrotpeeler.wav', 'coffee-maker.wav', 'creaky_chair.wav', 'cuttingpaper.wav', 'distributeur.wav', 'Saint-Gervais.wav', 'creaking_wood.wav', 'cutlerydrawer.wav', 'finger-clicks.wav', 'Forest Track 2.wav', 'Police sirens2.wav', 'Purring Cat 01.wav', 'bagofpistachios.wav', 'deodorant_spray.wav', 'electric-beater.wav', 'Ijmuiden harbour.wav', 'air duster short.wav', 'cracking_peanuts.wav', 'crunching cherry.wav', 'cutlery on table.wav', 'dipswitch_ON_OFF.wav', 'fillingwineglass.wav', 'garbage_disposal.wav', 'BrushingOnesTeeth.wav', 'dial-up_connection.wav', 'CathedralOfTheDowns.wav', 'Country_night_noise.wav', 'alarm_clock_ticking.wav', 'car_stereo_tapedeck.wav', 'garage_door_opening.wav', 'grinding_pistachios.wav', '2008 06 15 ping pong.wav', 'announcementonawharf.wav', 'dropping_breaking_01.wav', 'STE-005 - Klatschen-1.wav', 'Tupperdose schlieÃŸen.wav', 'Washing_hands_in_sink.wav', 'fasten_your_seat_belt.wav', 'Ambient Classroom-Mono.wav', 'electricPencilSharpener.wav', '2008 10 19 Saint-Exupere.wav', 'boiling-water-teabag-mug.wav', 'boxofchocs_and_eatingone.wav', 'bleigieÃŸen2-single sound.wav', 'bird_sings_in_the_afternoon.wav', 'coin_dropped_on_wooden_floor.wav', '2007 08 21 Vers La Repentance.wav', 'LookingUpAWordInTheDictionary.wav', 'aldi_pfandrÃ¼ckgabe_schredder.wav', 'cord_rope_clothing_shoes_pack.wav', '2008 04 19 fermeture du jardin.wav', '2008_01_12-toilet_paper_roll_saw.wav', 'HelicopterOverQuietNeighbourhood.wav', 'coins_dropped_in_wooden_moneybox.wav', 'coins_dropped_in_metallic_moneybox.wav', '2007 12 16 Fontaine Trinite Toulouse.wav', 'Canon_Digital_IXUS_55_mute-normalized.wav', '08-01-01-Silvester in Berlin-fireworks-1.wav', 'airport_bulletin board_selfmade_synthisized.wav', 'complete_summer_storm_with_30_thunder_01of04.wav', 'complete_summer_storm_with_30_thunder_03of04.wav', 'computer_CD_recorder_badly_fixed_beginning_to_copy.wav', 'bird_sings_in_the_morning_with_cars_in_the_background.wav']\n"
          ]
        }
      ],
      "source": [
        "%cd ~/projects/audio-captioning/AudioCaption\n",
        "!rm -rf audiofiles\n",
        "!tar -zxf ../data.tar.gz\n",
        "!mkdir audiofiles\n",
        "!mv *wav audiofiles"
      ]
    },
    {
      "cell_type": "code",
      "execution_count": 9,
      "id": "h4CcJhnzbEI2",
      "metadata": {
        "colab": {
          "base_uri": "https://localhost:8080/"
        },
        "id": "h4CcJhnzbEI2",
        "outputId": "6cab2a92-ea85-4657-d98f-b1153c872077"
      },
      "outputs": [
        {
          "name": "stdout",
          "output_type": "stream",
          "text": [
            "Archive:  /home/ilia/projects/audio-captioning/experiments.zip\n",
            "  inflating: /home/ilia/projects/audio-captioning/AudioCaption/experiments/clotho_v2/train_val/TransformerModel/cnn14rnn_trm/seed_1/train.log  \n",
            "  inflating: /home/ilia/projects/audio-captioning/AudioCaption/experiments/clotho_v2/train_val/TransformerModel/cnn14rnn_trm/seed_1/config.yaml  \n",
            "  inflating: /home/ilia/projects/audio-captioning/AudioCaption/experiments/clotho_v2/train_val/TransformerModel/cnn14rnn_trm/seed_1/best.pth  \n",
            "  inflating: /home/ilia/projects/audio-captioning/AudioCaption/experiments/clotho_v2/train_val/TransformerModel/cnn14rnn_trm/seed_1/last.pth  \n",
            "  inflating: /home/ilia/projects/audio-captioning/AudioCaption/experiments/clotho_v2/train_val/TransformerModel/cnn14rnn_trm/seed_1/swa.pth  \n",
            "  inflating: /home/ilia/projects/audio-captioning/AudioCaption/experiments/clotho_v2/train_val/TransformerModel/cnn14rnn_trm/seed_1/run/events.out.tfevents.1678448323.interns-0.5697.0  \n"
          ]
        }
      ],
      "source": [
        "!unzip ~/projects/audio-captioning/experiments.zip -d ~/projects/audio-captioning/AudioCaption/"
      ]
    },
    {
      "cell_type": "code",
      "execution_count": 15,
      "id": "f6062f2d",
      "metadata": {},
      "outputs": [
        {
          "name": "stdout",
          "output_type": "stream",
          "text": [
            "Python 3.8.16\n"
          ]
        }
      ],
      "source": [
        "!/home/ilia/miniconda3/envs/py38/bin/python --version"
      ]
    },
    {
      "cell_type": "code",
      "execution_count": 26,
      "id": "7e5fe444-17dc-4c81-bbba-a78d7ecacb72",
      "metadata": {
        "colab": {
          "base_uri": "https://localhost:8080/",
          "height": 1000
        },
        "id": "7e5fe444-17dc-4c81-bbba-a78d7ecacb72",
        "outputId": "59ded0e2-270f-4ded-f1a5-b8c49c8786d0"
      },
      "outputs": [
        {
          "name": "stdout",
          "output_type": "stream",
          "text": [
            "/home/ilia/projects/audio-captioning/AudioCaption\n",
            "Trying to infer on 08-01-01-Silvester in Berlin-fireworks-1.wav\n",
            "  0%|                                                     | 0/1 [00:00<?, ?it/s]rnn.network.weight_hh_l0', 'encoder.rnn.network.bias_ih_l0', 'encoder.rnn.network.bias_hh_l0', 'encoder.rnn.network.weight_ih_l0_reverse', 'encoder.rnn.network.weight_hh_l0_reverse', 'encoder.rnn.network.bias_ih_l0_reverse', 'encoder.rnn.network.bias_hh_l0_reverse', 'encoder.rnn.network.weight_ih_l1', 'encoder.rnn.network.weight_hh_l1', 'encoder.rnn.network.bias_ih_l1', 'encoder.rnn.network.bias_hh_l1', 'encoder.rnn.network.weight_ih_l1_reverse', 'encoder.rnn.network.weight_hh_l1_reverse', 'encoder.rnn.network.bias_ih_l1_reverse', 'encoder.rnn.network.bias_hh_l1_reverse', 'encoder.rnn.network.weight_ih_l2', 'encoder.rnn.network.weight_hh_l2', 'encoder.rnn.network.bias_ih_l2', 'encoder.rnn.network.bias_hh_l2', 'encoder.rnn.network.weight_ih_l2_reverse', 'encoder.rnn.network.weight_hh_l2_reverse', 'encoder.rnn.network.bias_ih_l2_reverse', 'encoder.rnn.network.bias_hh_l2_reverse', 'decoder.word_embedding.weight', 'decoder.model.layers.0.self_attn.in_proj_weight', 'decoder.model.layers.0.self_attn.in_proj_bias', 'decoder.model.layers.0.self_attn.out_proj.weight', 'decoder.model.layers.0.self_attn.out_proj.bias', 'decoder.model.layers.0.multihead_attn.in_proj_weight', 'decoder.model.layers.0.multihead_attn.in_proj_bias', 'decoder.model.layers.0.multihead_attn.out_proj.weight', 'decoder.model.layers.0.multihead_attn.out_proj.bias', 'decoder.model.layers.0.linear1.weight', 'decoder.model.layers.0.linear1.bias', 'decoder.model.layers.0.linear2.weight', 'decoder.model.layers.0.linear2.bias', 'decoder.model.layers.0.norm1.weight', 'decoder.model.layers.0.norm1.bias', 'decoder.model.layers.0.norm2.weight', 'decoder.model.layers.0.norm2.bias', 'decoder.model.layers.0.norm3.weight', 'decoder.model.layers.0.norm3.bias', 'decoder.model.layers.1.self_attn.in_proj_weight', 'decoder.model.layers.1.self_attn.in_proj_bias', 'decoder.model.layers.1.self_attn.out_proj.weight', 'decoder.model.layers.1.self_attn.out_proj.bias', 'decoder.model.layers.1.multihead_attn.in_proj_weight', 'decoder.model.layers.1.multihead_attn.in_proj_bias', 'decoder.model.layers.1.multihead_attn.out_proj.weight', 'decoder.model.layers.1.multihead_attn.out_proj.bias', 'decoder.model.layers.1.linear1.weight', 'decoder.model.layers.1.linear1.bias', 'decoder.model.layers.1.linear2.weight', 'decoder.model.layers.1.linear2.bias', 'decoder.model.layers.1.norm1.weight', 'decoder.model.layers.1.norm1.bias', 'decoder.model.layers.1.norm2.weight', 'decoder.model.layers.1.norm2.bias', 'decoder.model.layers.1.norm3.weight', 'decoder.model.layers.1.norm3.bias', 'decoder.classifier.weight', 'decoder.classifier.bias', 'decoder.attn_proj.0.weight', 'decoder.attn_proj.0.bias', 'decoder.attn_proj.3.weight', 'decoder.attn_proj.3.bias', 'encoder.cnn.melspec_extractor.spectrogram.window', 'encoder.cnn.melspec_extractor.mel_scale.fb', 'encoder.cnn.bn0.running_mean', 'encoder.cnn.bn0.running_var', 'encoder.cnn.bn0.num_batches_tracked', 'encoder.cnn.conv_block1.bn1.running_mean', 'encoder.cnn.conv_block1.bn1.running_var', 'encoder.cnn.conv_block1.bn1.num_batches_tracked', 'encoder.cnn.conv_block1.bn2.running_mean', 'encoder.cnn.conv_block1.bn2.running_var', 'encoder.cnn.conv_block1.bn2.num_batches_tracked', 'encoder.cnn.conv_block2.bn1.running_mean', 'encoder.cnn.conv_block2.bn1.running_var', 'encoder.cnn.conv_block2.bn1.num_batches_tracked', 'encoder.cnn.conv_block2.bn2.running_mean', 'encoder.cnn.conv_block2.bn2.running_var', 'encoder.cnn.conv_block2.bn2.num_batches_tracked', 'encoder.cnn.conv_block3.bn1.running_mean', 'encoder.cnn.conv_block3.bn1.running_var', 'encoder.cnn.conv_block3.bn1.num_batches_tracked', 'encoder.cnn.conv_block3.bn2.running_mean', 'encoder.cnn.conv_block3.bn2.running_var', 'encoder.cnn.conv_block3.bn2.num_batches_tracked', 'encoder.cnn.conv_block4.bn1.running_mean', 'encoder.cnn.conv_block4.bn1.running_var', 'encoder.cnn.conv_block4.bn1.num_batches_tracked', 'encoder.cnn.conv_block4.bn2.running_mean', 'encoder.cnn.conv_block4.bn2.running_var', 'encoder.cnn.conv_block4.bn2.num_batches_tracked', 'encoder.cnn.conv_block5.bn1.running_mean', 'encoder.cnn.conv_block5.bn1.running_var', 'encoder.cnn.conv_block5.bn1.num_batches_tracked', 'encoder.cnn.conv_block5.bn2.running_mean', 'encoder.cnn.conv_block5.bn2.running_var', 'encoder.cnn.conv_block5.bn2.num_batches_tracked', 'encoder.cnn.conv_block6.bn1.running_mean', 'encoder.cnn.conv_block6.bn1.running_var', 'encoder.cnn.conv_block6.bn1.num_batches_tracked', 'encoder.cnn.conv_block6.bn2.running_mean', 'encoder.cnn.conv_block6.bn2.running_var', 'encoder.cnn.conv_block6.bn2.num_batches_tracked'])captioning/pytorch_runners/inference_waveform.py:68: FutureWarning: Pass orig_sr=16000, target_sr=32000 as keyword args. From version 0.10 passing these as positional arguments will result in an error\n",
            "  y = librosa.core.resample(y, sr, 32000)\n",
            "100%|█████████████████████████████████████████████| 1/1 [00:05<00:00,  5.35s/it]\n"
          ]
        }
      ],
      "source": [
        "import sys\n",
        "sys.path.append(\"~/projects/audio-captioning/AudioCaption/captioning\")\n",
        "sys.path.append(\"~/projects/audio-captioning/AudioCaption\")\n",
        "sys.path.append(\"~/projects/audio-captioning\")\n",
        "audiofiles = !ls -1 audiofiles\n",
        "print(sorted(audiofiles, key=lambda s: len(s)))\n",
        "%cd ~/projects/audio-captioning/AudioCaption\n",
        "for filename_ix, filename in enumerate(audiofiles):\n",
        "    print(f\"Trying to infer on {filename}\")\n",
        "    !/home/ilia/miniconda3/envs/py38/bin/python captioning/pytorch_runners/inference_waveform.py \\\n",
        "             'audiofiles/{filename}' \\\n",
        "             {filename_ix}.json \\\n",
        "             --checkpoint=experiments/clotho_v2/train_val/TransformerModel/cnn14rnn_trm/seed_1/swa.pth\n",
        "    break\n",
        "\n"
      ]
    },
    {
      "cell_type": "code",
      "execution_count": null,
      "id": "9ab07daa-3db6-4411-9765-d79141537a86",
      "metadata": {
        "id": "9ab07daa-3db6-4411-9765-d79141537a86"
      },
      "outputs": [],
      "source": [
        "import json\n",
        "results_fnames = !ls -1 *json\n",
        "results_data = []\n",
        "for res_fname in results_fnames:\n",
        "    potential_info = json.load(open(res_fname, 'r'))\n",
        "    if potential_info:\n",
        "        for k, v in potential_info.items():\n",
        "            if k.endswith('wav'):\n",
        "                results_data.append({\"fname\": k, \"caption\":v})\n",
        "import pandas as pd\n",
        "pd.DataFrame(results_data).to_csv(\"v2023_analyses.csv\")"
      ]
    },
    {
      "cell_type": "code",
      "execution_count": null,
      "id": "MNgh0N-ub1c5",
      "metadata": {
        "id": "MNgh0N-ub1c5"
      },
      "outputs": [],
      "source": []
    }
  ],
  "metadata": {
    "colab": {
      "provenance": []
    },
    "kernelspec": {
      "display_name": "py38",
      "language": "python",
      "name": "py38"
    },
    "language_info": {
      "codemirror_mode": {
        "name": "ipython",
        "version": 3
      },
      "file_extension": ".py",
      "mimetype": "text/x-python",
      "name": "python",
      "nbconvert_exporter": "python",
      "pygments_lexer": "ipython3",
      "version": "3.8.16"
    },
    "vscode": {
      "interpreter": {
        "hash": "57bc2b6ce032b5f0e93daa91901b7ea38a856826ef43aa9e95b6d3999f5310df"
      }
    }
  },
  "nbformat": 4,
  "nbformat_minor": 5
}
